{
  "nbformat": 4,
  "nbformat_minor": 0,
  "metadata": {
    "colab": {
      "provenance": [],
      "authorship_tag": "ABX9TyNC0iPgMVTxo9H8IYnRRy43",
      "include_colab_link": true
    },
    "kernelspec": {
      "name": "python3",
      "display_name": "Python 3"
    },
    "language_info": {
      "name": "python"
    }
  },
  "cells": [
    {
      "cell_type": "markdown",
      "metadata": {
        "id": "view-in-github",
        "colab_type": "text"
      },
      "source": [
        "<a href=\"https://colab.research.google.com/github/Graziiele/Analise-De-Dados-Estudos/blob/main/Projeto.ipynb\" target=\"_parent\"><img src=\"https://colab.research.google.com/assets/colab-badge.svg\" alt=\"Open In Colab\"/></a>"
      ]
    },
    {
      "cell_type": "code",
      "execution_count": 1,
      "metadata": {
        "id": "tLWDk8BI2hKI"
      },
      "outputs": [],
      "source": [
        "#Importando bibliotecas usadas\n",
        "import pandas as pd\n",
        "import numpy as np"
      ]
    },
    {
      "cell_type": "code",
      "source": [
        "#Carregando dados\n",
        "\n",
        "df = pd.read_csv(\"/content/empresas.csv\")"
      ],
      "metadata": {
        "id": "ufPez-t6EdTM"
      },
      "execution_count": 2,
      "outputs": []
    },
    {
      "cell_type": "code",
      "source": [
        "#Quantidade de número de linhas e de Colunas\n",
        "df.shape"
      ],
      "metadata": {
        "colab": {
          "base_uri": "https://localhost:8080/"
        },
        "id": "0nonWL5kE72p",
        "outputId": "fe59a878-9124-4320-a5c8-8b2f521050f7"
      },
      "execution_count": 3,
      "outputs": [
        {
          "output_type": "execute_result",
          "data": {
            "text/plain": [
              "(11331, 8)"
            ]
          },
          "metadata": {},
          "execution_count": 3
        }
      ]
    },
    {
      "cell_type": "code",
      "source": [
        "#nomes das Colunas\n",
        "df.columns"
      ],
      "metadata": {
        "colab": {
          "base_uri": "https://localhost:8080/"
        },
        "id": "W3m97o8zE9cv",
        "outputId": "4b277d2a-d3c0-474a-ddaf-00b82d717c94"
      },
      "execution_count": 4,
      "outputs": [
        {
          "output_type": "execute_result",
          "data": {
            "text/plain": [
              "Index(['id', 'estado_empresa', 'cnae_empresa', 'capital_empresa',\n",
              "       'processos_judiciais_empresa', 'idade_empresa', 'socios_empresa',\n",
              "       'fornecedor_empresa'],\n",
              "      dtype='object')"
            ]
          },
          "metadata": {},
          "execution_count": 4
        }
      ]
    },
    {
      "cell_type": "code",
      "source": [
        "#amostra de 5 linhas do DataFrame\n",
        "df.head(5)"
      ],
      "metadata": {
        "colab": {
          "base_uri": "https://localhost:8080/",
          "height": 204
        },
        "id": "Czc4JZrYFCcs",
        "outputId": "0df2884c-71c0-457c-e53e-dae4a0c60f36"
      },
      "execution_count": 60,
      "outputs": [
        {
          "output_type": "execute_result",
          "data": {
            "text/plain": [
              "   id estado_empresa cnae_empresa  capital_empresa  \\\n",
              "0   0             SP      3313901           472052   \n",
              "2   2             DF      3321000           711994   \n",
              "3   3             AC      4221903            25330   \n",
              "4   4             GO      3321000           271513   \n",
              "5   5             AP      2821601           853729   \n",
              "\n",
              "   processos_judiciais_empresa  idade_empresa  socios_empresa  \\\n",
              "0                            2             16               4   \n",
              "2                            0             13               2   \n",
              "3                            0              5               1   \n",
              "4                            0              3               2   \n",
              "5                            0             20               2   \n",
              "\n",
              "  fornecedor_empresa  \n",
              "0            CABL951  \n",
              "2             MEL789  \n",
              "3             FOO456  \n",
              "4             MEL789  \n",
              "5             FOO456  "
            ],
            "text/html": [
              "\n",
              "  <div id=\"df-53f55297-a603-432c-83ab-8860dac0de12\">\n",
              "    <div class=\"colab-df-container\">\n",
              "      <div>\n",
              "<style scoped>\n",
              "    .dataframe tbody tr th:only-of-type {\n",
              "        vertical-align: middle;\n",
              "    }\n",
              "\n",
              "    .dataframe tbody tr th {\n",
              "        vertical-align: top;\n",
              "    }\n",
              "\n",
              "    .dataframe thead th {\n",
              "        text-align: right;\n",
              "    }\n",
              "</style>\n",
              "<table border=\"1\" class=\"dataframe\">\n",
              "  <thead>\n",
              "    <tr style=\"text-align: right;\">\n",
              "      <th></th>\n",
              "      <th>id</th>\n",
              "      <th>estado_empresa</th>\n",
              "      <th>cnae_empresa</th>\n",
              "      <th>capital_empresa</th>\n",
              "      <th>processos_judiciais_empresa</th>\n",
              "      <th>idade_empresa</th>\n",
              "      <th>socios_empresa</th>\n",
              "      <th>fornecedor_empresa</th>\n",
              "    </tr>\n",
              "  </thead>\n",
              "  <tbody>\n",
              "    <tr>\n",
              "      <th>0</th>\n",
              "      <td>0</td>\n",
              "      <td>SP</td>\n",
              "      <td>3313901</td>\n",
              "      <td>472052</td>\n",
              "      <td>2</td>\n",
              "      <td>16</td>\n",
              "      <td>4</td>\n",
              "      <td>CABL951</td>\n",
              "    </tr>\n",
              "    <tr>\n",
              "      <th>2</th>\n",
              "      <td>2</td>\n",
              "      <td>DF</td>\n",
              "      <td>3321000</td>\n",
              "      <td>711994</td>\n",
              "      <td>0</td>\n",
              "      <td>13</td>\n",
              "      <td>2</td>\n",
              "      <td>MEL789</td>\n",
              "    </tr>\n",
              "    <tr>\n",
              "      <th>3</th>\n",
              "      <td>3</td>\n",
              "      <td>AC</td>\n",
              "      <td>4221903</td>\n",
              "      <td>25330</td>\n",
              "      <td>0</td>\n",
              "      <td>5</td>\n",
              "      <td>1</td>\n",
              "      <td>FOO456</td>\n",
              "    </tr>\n",
              "    <tr>\n",
              "      <th>4</th>\n",
              "      <td>4</td>\n",
              "      <td>GO</td>\n",
              "      <td>3321000</td>\n",
              "      <td>271513</td>\n",
              "      <td>0</td>\n",
              "      <td>3</td>\n",
              "      <td>2</td>\n",
              "      <td>MEL789</td>\n",
              "    </tr>\n",
              "    <tr>\n",
              "      <th>5</th>\n",
              "      <td>5</td>\n",
              "      <td>AP</td>\n",
              "      <td>2821601</td>\n",
              "      <td>853729</td>\n",
              "      <td>0</td>\n",
              "      <td>20</td>\n",
              "      <td>2</td>\n",
              "      <td>FOO456</td>\n",
              "    </tr>\n",
              "  </tbody>\n",
              "</table>\n",
              "</div>\n",
              "      <button class=\"colab-df-convert\" onclick=\"convertToInteractive('df-53f55297-a603-432c-83ab-8860dac0de12')\"\n",
              "              title=\"Convert this dataframe to an interactive table.\"\n",
              "              style=\"display:none;\">\n",
              "        \n",
              "  <svg xmlns=\"http://www.w3.org/2000/svg\" height=\"24px\"viewBox=\"0 0 24 24\"\n",
              "       width=\"24px\">\n",
              "    <path d=\"M0 0h24v24H0V0z\" fill=\"none\"/>\n",
              "    <path d=\"M18.56 5.44l.94 2.06.94-2.06 2.06-.94-2.06-.94-.94-2.06-.94 2.06-2.06.94zm-11 1L8.5 8.5l.94-2.06 2.06-.94-2.06-.94L8.5 2.5l-.94 2.06-2.06.94zm10 10l.94 2.06.94-2.06 2.06-.94-2.06-.94-.94-2.06-.94 2.06-2.06.94z\"/><path d=\"M17.41 7.96l-1.37-1.37c-.4-.4-.92-.59-1.43-.59-.52 0-1.04.2-1.43.59L10.3 9.45l-7.72 7.72c-.78.78-.78 2.05 0 2.83L4 21.41c.39.39.9.59 1.41.59.51 0 1.02-.2 1.41-.59l7.78-7.78 2.81-2.81c.8-.78.8-2.07 0-2.86zM5.41 20L4 18.59l7.72-7.72 1.47 1.35L5.41 20z\"/>\n",
              "  </svg>\n",
              "      </button>\n",
              "      \n",
              "  <style>\n",
              "    .colab-df-container {\n",
              "      display:flex;\n",
              "      flex-wrap:wrap;\n",
              "      gap: 12px;\n",
              "    }\n",
              "\n",
              "    .colab-df-convert {\n",
              "      background-color: #E8F0FE;\n",
              "      border: none;\n",
              "      border-radius: 50%;\n",
              "      cursor: pointer;\n",
              "      display: none;\n",
              "      fill: #1967D2;\n",
              "      height: 32px;\n",
              "      padding: 0 0 0 0;\n",
              "      width: 32px;\n",
              "    }\n",
              "\n",
              "    .colab-df-convert:hover {\n",
              "      background-color: #E2EBFA;\n",
              "      box-shadow: 0px 1px 2px rgba(60, 64, 67, 0.3), 0px 1px 3px 1px rgba(60, 64, 67, 0.15);\n",
              "      fill: #174EA6;\n",
              "    }\n",
              "\n",
              "    [theme=dark] .colab-df-convert {\n",
              "      background-color: #3B4455;\n",
              "      fill: #D2E3FC;\n",
              "    }\n",
              "\n",
              "    [theme=dark] .colab-df-convert:hover {\n",
              "      background-color: #434B5C;\n",
              "      box-shadow: 0px 1px 3px 1px rgba(0, 0, 0, 0.15);\n",
              "      filter: drop-shadow(0px 1px 2px rgba(0, 0, 0, 0.3));\n",
              "      fill: #FFFFFF;\n",
              "    }\n",
              "  </style>\n",
              "\n",
              "      <script>\n",
              "        const buttonEl =\n",
              "          document.querySelector('#df-53f55297-a603-432c-83ab-8860dac0de12 button.colab-df-convert');\n",
              "        buttonEl.style.display =\n",
              "          google.colab.kernel.accessAllowed ? 'block' : 'none';\n",
              "\n",
              "        async function convertToInteractive(key) {\n",
              "          const element = document.querySelector('#df-53f55297-a603-432c-83ab-8860dac0de12');\n",
              "          const dataTable =\n",
              "            await google.colab.kernel.invokeFunction('convertToInteractive',\n",
              "                                                     [key], {});\n",
              "          if (!dataTable) return;\n",
              "\n",
              "          const docLinkHtml = 'Like what you see? Visit the ' +\n",
              "            '<a target=\"_blank\" href=https://colab.research.google.com/notebooks/data_table.ipynb>data table notebook</a>'\n",
              "            + ' to learn more about interactive tables.';\n",
              "          element.innerHTML = '';\n",
              "          dataTable['output_type'] = 'display_data';\n",
              "          await google.colab.output.renderOutput(dataTable, element);\n",
              "          const docLink = document.createElement('div');\n",
              "          docLink.innerHTML = docLinkHtml;\n",
              "          element.appendChild(docLink);\n",
              "        }\n",
              "      </script>\n",
              "    </div>\n",
              "  </div>\n",
              "  "
            ]
          },
          "metadata": {},
          "execution_count": 60
        }
      ]
    },
    {
      "cell_type": "code",
      "source": [
        "#\n",
        "df.tail(5)"
      ],
      "metadata": {
        "colab": {
          "base_uri": "https://localhost:8080/",
          "height": 248
        },
        "id": "O29TBwd4Ffx2",
        "outputId": "7a9482b1-46d8-4f4b-d514-e640dc02a573"
      },
      "execution_count": 14,
      "outputs": [
        {
          "output_type": "execute_result",
          "data": {
            "text/plain": [
              "          id estado_empresa cnae_empresa  capital_empresa  \\\n",
              "11326  11326             GO      4754703           626844   \n",
              "11327  11327             CE      4754703           840835   \n",
              "11328  11328             CE      4669901           944517   \n",
              "11329  11329             AC      4322303           899621   \n",
              "11330  11330             PI      4321500           368599   \n",
              "\n",
              "       processos_judiciais_empresa  idade_empresa  socios_empresa  \\\n",
              "11326                            0             13               3   \n",
              "11327                            0              2               2   \n",
              "11328                            3             17               4   \n",
              "11329                            2             20               4   \n",
              "11330                            0             18               2   \n",
              "\n",
              "      fornecedor_empresa  \n",
              "11326             FOO456  \n",
              "11327             JJF753  \n",
              "11328            XPTO123  \n",
              "11329            CABL951  \n",
              "11330            XPTO123  "
            ],
            "text/html": [
              "\n",
              "  <div id=\"df-31861925-3eae-4ea0-a525-59eb2555d61d\">\n",
              "    <div class=\"colab-df-container\">\n",
              "      <div>\n",
              "<style scoped>\n",
              "    .dataframe tbody tr th:only-of-type {\n",
              "        vertical-align: middle;\n",
              "    }\n",
              "\n",
              "    .dataframe tbody tr th {\n",
              "        vertical-align: top;\n",
              "    }\n",
              "\n",
              "    .dataframe thead th {\n",
              "        text-align: right;\n",
              "    }\n",
              "</style>\n",
              "<table border=\"1\" class=\"dataframe\">\n",
              "  <thead>\n",
              "    <tr style=\"text-align: right;\">\n",
              "      <th></th>\n",
              "      <th>id</th>\n",
              "      <th>estado_empresa</th>\n",
              "      <th>cnae_empresa</th>\n",
              "      <th>capital_empresa</th>\n",
              "      <th>processos_judiciais_empresa</th>\n",
              "      <th>idade_empresa</th>\n",
              "      <th>socios_empresa</th>\n",
              "      <th>fornecedor_empresa</th>\n",
              "    </tr>\n",
              "  </thead>\n",
              "  <tbody>\n",
              "    <tr>\n",
              "      <th>11326</th>\n",
              "      <td>11326</td>\n",
              "      <td>GO</td>\n",
              "      <td>4754703</td>\n",
              "      <td>626844</td>\n",
              "      <td>0</td>\n",
              "      <td>13</td>\n",
              "      <td>3</td>\n",
              "      <td>FOO456</td>\n",
              "    </tr>\n",
              "    <tr>\n",
              "      <th>11327</th>\n",
              "      <td>11327</td>\n",
              "      <td>CE</td>\n",
              "      <td>4754703</td>\n",
              "      <td>840835</td>\n",
              "      <td>0</td>\n",
              "      <td>2</td>\n",
              "      <td>2</td>\n",
              "      <td>JJF753</td>\n",
              "    </tr>\n",
              "    <tr>\n",
              "      <th>11328</th>\n",
              "      <td>11328</td>\n",
              "      <td>CE</td>\n",
              "      <td>4669901</td>\n",
              "      <td>944517</td>\n",
              "      <td>3</td>\n",
              "      <td>17</td>\n",
              "      <td>4</td>\n",
              "      <td>XPTO123</td>\n",
              "    </tr>\n",
              "    <tr>\n",
              "      <th>11329</th>\n",
              "      <td>11329</td>\n",
              "      <td>AC</td>\n",
              "      <td>4322303</td>\n",
              "      <td>899621</td>\n",
              "      <td>2</td>\n",
              "      <td>20</td>\n",
              "      <td>4</td>\n",
              "      <td>CABL951</td>\n",
              "    </tr>\n",
              "    <tr>\n",
              "      <th>11330</th>\n",
              "      <td>11330</td>\n",
              "      <td>PI</td>\n",
              "      <td>4321500</td>\n",
              "      <td>368599</td>\n",
              "      <td>0</td>\n",
              "      <td>18</td>\n",
              "      <td>2</td>\n",
              "      <td>XPTO123</td>\n",
              "    </tr>\n",
              "  </tbody>\n",
              "</table>\n",
              "</div>\n",
              "      <button class=\"colab-df-convert\" onclick=\"convertToInteractive('df-31861925-3eae-4ea0-a525-59eb2555d61d')\"\n",
              "              title=\"Convert this dataframe to an interactive table.\"\n",
              "              style=\"display:none;\">\n",
              "        \n",
              "  <svg xmlns=\"http://www.w3.org/2000/svg\" height=\"24px\"viewBox=\"0 0 24 24\"\n",
              "       width=\"24px\">\n",
              "    <path d=\"M0 0h24v24H0V0z\" fill=\"none\"/>\n",
              "    <path d=\"M18.56 5.44l.94 2.06.94-2.06 2.06-.94-2.06-.94-.94-2.06-.94 2.06-2.06.94zm-11 1L8.5 8.5l.94-2.06 2.06-.94-2.06-.94L8.5 2.5l-.94 2.06-2.06.94zm10 10l.94 2.06.94-2.06 2.06-.94-2.06-.94-.94-2.06-.94 2.06-2.06.94z\"/><path d=\"M17.41 7.96l-1.37-1.37c-.4-.4-.92-.59-1.43-.59-.52 0-1.04.2-1.43.59L10.3 9.45l-7.72 7.72c-.78.78-.78 2.05 0 2.83L4 21.41c.39.39.9.59 1.41.59.51 0 1.02-.2 1.41-.59l7.78-7.78 2.81-2.81c.8-.78.8-2.07 0-2.86zM5.41 20L4 18.59l7.72-7.72 1.47 1.35L5.41 20z\"/>\n",
              "  </svg>\n",
              "      </button>\n",
              "      \n",
              "  <style>\n",
              "    .colab-df-container {\n",
              "      display:flex;\n",
              "      flex-wrap:wrap;\n",
              "      gap: 12px;\n",
              "    }\n",
              "\n",
              "    .colab-df-convert {\n",
              "      background-color: #E8F0FE;\n",
              "      border: none;\n",
              "      border-radius: 50%;\n",
              "      cursor: pointer;\n",
              "      display: none;\n",
              "      fill: #1967D2;\n",
              "      height: 32px;\n",
              "      padding: 0 0 0 0;\n",
              "      width: 32px;\n",
              "    }\n",
              "\n",
              "    .colab-df-convert:hover {\n",
              "      background-color: #E2EBFA;\n",
              "      box-shadow: 0px 1px 2px rgba(60, 64, 67, 0.3), 0px 1px 3px 1px rgba(60, 64, 67, 0.15);\n",
              "      fill: #174EA6;\n",
              "    }\n",
              "\n",
              "    [theme=dark] .colab-df-convert {\n",
              "      background-color: #3B4455;\n",
              "      fill: #D2E3FC;\n",
              "    }\n",
              "\n",
              "    [theme=dark] .colab-df-convert:hover {\n",
              "      background-color: #434B5C;\n",
              "      box-shadow: 0px 1px 3px 1px rgba(0, 0, 0, 0.15);\n",
              "      filter: drop-shadow(0px 1px 2px rgba(0, 0, 0, 0.3));\n",
              "      fill: #FFFFFF;\n",
              "    }\n",
              "  </style>\n",
              "\n",
              "      <script>\n",
              "        const buttonEl =\n",
              "          document.querySelector('#df-31861925-3eae-4ea0-a525-59eb2555d61d button.colab-df-convert');\n",
              "        buttonEl.style.display =\n",
              "          google.colab.kernel.accessAllowed ? 'block' : 'none';\n",
              "\n",
              "        async function convertToInteractive(key) {\n",
              "          const element = document.querySelector('#df-31861925-3eae-4ea0-a525-59eb2555d61d');\n",
              "          const dataTable =\n",
              "            await google.colab.kernel.invokeFunction('convertToInteractive',\n",
              "                                                     [key], {});\n",
              "          if (!dataTable) return;\n",
              "\n",
              "          const docLinkHtml = 'Like what you see? Visit the ' +\n",
              "            '<a target=\"_blank\" href=https://colab.research.google.com/notebooks/data_table.ipynb>data table notebook</a>'\n",
              "            + ' to learn more about interactive tables.';\n",
              "          element.innerHTML = '';\n",
              "          dataTable['output_type'] = 'display_data';\n",
              "          await google.colab.output.renderOutput(dataTable, element);\n",
              "          const docLink = document.createElement('div');\n",
              "          docLink.innerHTML = docLinkHtml;\n",
              "          element.appendChild(docLink);\n",
              "        }\n",
              "      </script>\n",
              "    </div>\n",
              "  </div>\n",
              "  "
            ]
          },
          "metadata": {},
          "execution_count": 14
        }
      ]
    },
    {
      "cell_type": "code",
      "source": [
        "#Verificando informaçōes sobre o tipos de dados \n",
        "df.info()"
      ],
      "metadata": {
        "colab": {
          "base_uri": "https://localhost:8080/"
        },
        "id": "GpK_MP7BF6m_",
        "outputId": "c58ca7d0-1aeb-4799-b702-2ec23b30b467"
      },
      "execution_count": 7,
      "outputs": [
        {
          "output_type": "stream",
          "name": "stdout",
          "text": [
            "<class 'pandas.core.frame.DataFrame'>\n",
            "RangeIndex: 11331 entries, 0 to 11330\n",
            "Data columns (total 8 columns):\n",
            " #   Column                       Non-Null Count  Dtype \n",
            "---  ------                       --------------  ----- \n",
            " 0   id                           11331 non-null  int64 \n",
            " 1   estado_empresa               11331 non-null  object\n",
            " 2   cnae_empresa                 11331 non-null  object\n",
            " 3   capital_empresa              11331 non-null  int64 \n",
            " 4   processos_judiciais_empresa  11331 non-null  int64 \n",
            " 5   idade_empresa                11331 non-null  int64 \n",
            " 6   socios_empresa               11331 non-null  int64 \n",
            " 7   fornecedor_empresa           11331 non-null  object\n",
            "dtypes: int64(5), object(3)\n",
            "memory usage: 708.3+ KB\n"
          ]
        }
      ]
    },
    {
      "cell_type": "code",
      "source": [
        "#Verificando a existência de valores nulo na base de dados\n",
        "df.isnull().sum()"
      ],
      "metadata": {
        "colab": {
          "base_uri": "https://localhost:8080/"
        },
        "id": "lLu2rOEOF_94",
        "outputId": "90602844-c1ba-42ff-fb87-ca38e455507a"
      },
      "execution_count": 8,
      "outputs": [
        {
          "output_type": "execute_result",
          "data": {
            "text/plain": [
              "id                             0\n",
              "estado_empresa                 0\n",
              "cnae_empresa                   0\n",
              "capital_empresa                0\n",
              "processos_judiciais_empresa    0\n",
              "idade_empresa                  0\n",
              "socios_empresa                 0\n",
              "fornecedor_empresa             0\n",
              "dtype: int64"
            ]
          },
          "metadata": {},
          "execution_count": 8
        }
      ]
    },
    {
      "cell_type": "code",
      "source": [
        "df['estado_empresa'].value_counts()"
      ],
      "metadata": {
        "colab": {
          "base_uri": "https://localhost:8080/"
        },
        "id": "dg-SBYVSlVOe",
        "outputId": "6d68b83a-2985-4585-e658-796a59326b9b"
      },
      "execution_count": 9,
      "outputs": [
        {
          "output_type": "execute_result",
          "data": {
            "text/plain": [
              "SP             454\n",
              "PA             442\n",
              "MG             439\n",
              "AL             438\n",
              "SE             438\n",
              "GO             435\n",
              "MT             425\n",
              "PE             423\n",
              "SC             418\n",
              "AC             417\n",
              "RO             414\n",
              "AM             414\n",
              "PB             413\n",
              "RN             412\n",
              "BA             411\n",
              "MA             411\n",
              "AP             410\n",
              "PR             407\n",
              "PI             405\n",
              "TO             399\n",
              "CE             397\n",
              "MS             397\n",
              "RS             396\n",
              "RR             390\n",
              "DF             390\n",
              "ES             389\n",
              "RJ             376\n",
              "mg              57\n",
              "sp              23\n",
              "ms               9\n",
              "go               7\n",
              "pr               7\n",
              "pe               6\n",
              "rs               6\n",
              "ce               5\n",
              "es               5\n",
              "rj               5\n",
              "ba               5\n",
              "mt               4\n",
              "pa               3\n",
              "rn               3\n",
              "al               3\n",
              "pi               3\n",
              "ro               2\n",
              "sc               2\n",
              "ma               2\n",
              "pb               2\n",
              "df               2\n",
              "am               2\n",
              "ap               2\n",
              "to               2\n",
              "..               1\n",
              "ac               1\n",
              "se               1\n",
              "Switzerland      1\n",
              "Name: estado_empresa, dtype: int64"
            ]
          },
          "metadata": {},
          "execution_count": 9
        }
      ]
    },
    {
      "cell_type": "code",
      "source": [
        "df['estado_empresa'] = df['estado_empresa'].str.upper()"
      ],
      "metadata": {
        "id": "-zGpPEJqJ8Fa"
      },
      "execution_count": 83,
      "outputs": []
    },
    {
      "cell_type": "code",
      "source": [
        "df['estado_empresa'].value_counts()"
      ],
      "metadata": {
        "colab": {
          "base_uri": "https://localhost:8080/"
        },
        "id": "pIrgkS2LMuUt",
        "outputId": "ec7f39e9-d506-4d95-b11c-f9ee3e6d73fb"
      },
      "execution_count": 84,
      "outputs": [
        {
          "output_type": "execute_result",
          "data": {
            "text/plain": [
              "MG             496\n",
              "SP             477\n",
              "PA             445\n",
              "GO             442\n",
              "AL             441\n",
              "SE             439\n",
              "MT             429\n",
              "PE             429\n",
              "SC             420\n",
              "AC             418\n",
              "BA             416\n",
              "RO             416\n",
              "PB             415\n",
              "AM             415\n",
              "RN             415\n",
              "PR             414\n",
              "MA             413\n",
              "AP             412\n",
              "PI             408\n",
              "MS             406\n",
              "CE             402\n",
              "RS             402\n",
              "TO             401\n",
              "ES             394\n",
              "DF             392\n",
              "RR             390\n",
              "RJ             381\n",
              "..               1\n",
              "SWITZERLAND      1\n",
              "Name: estado_empresa, dtype: int64"
            ]
          },
          "metadata": {},
          "execution_count": 84
        }
      ]
    },
    {
      "cell_type": "code",
      "source": [
        "df.drop(df.loc[df['estado_empresa'] == '..'].index, inplace=True)\n",
        "df.drop(df.loc[df['estado_empresa'] == 'SWITZERLAND'].index, inplace=True)\n"
      ],
      "metadata": {
        "id": "Dgeb6ezRNHc2"
      },
      "execution_count": 99,
      "outputs": []
    },
    {
      "cell_type": "code",
      "source": [
        "df['estado_empresa'].value_counts()"
      ],
      "metadata": {
        "colab": {
          "base_uri": "https://localhost:8080/"
        },
        "id": "bX-MzSu9Qly5",
        "outputId": "558171e1-e215-44cb-e1d9-ada2b184eac6"
      },
      "execution_count": 100,
      "outputs": [
        {
          "output_type": "execute_result",
          "data": {
            "text/plain": [
              "MG    496\n",
              "SP    477\n",
              "PA    445\n",
              "GO    442\n",
              "AL    441\n",
              "SE    439\n",
              "PE    429\n",
              "MT    429\n",
              "SC    420\n",
              "AC    418\n",
              "RO    416\n",
              "BA    416\n",
              "PB    415\n",
              "AM    415\n",
              "RN    415\n",
              "PR    414\n",
              "MA    413\n",
              "AP    412\n",
              "PI    408\n",
              "MS    406\n",
              "CE    402\n",
              "RS    402\n",
              "TO    401\n",
              "ES    394\n",
              "DF    392\n",
              "RR    390\n",
              "RJ    381\n",
              "Name: estado_empresa, dtype: int64"
            ]
          },
          "metadata": {},
          "execution_count": 100
        }
      ]
    },
    {
      "cell_type": "code",
      "source": [
        "df['processos_judiciais_empresa'].value_counts()"
      ],
      "metadata": {
        "colab": {
          "base_uri": "https://localhost:8080/"
        },
        "id": "0O3xWvJWp11g",
        "outputId": "09b77ac5-708e-481f-c198-641a10a88792"
      },
      "execution_count": 23,
      "outputs": [
        {
          "output_type": "execute_result",
          "data": {
            "text/plain": [
              "0    6904\n",
              "4    1151\n",
              "1    1127\n",
              "3    1104\n",
              "2    1044\n",
              "Name: processos_judiciais_empresa, dtype: int64"
            ]
          },
          "metadata": {},
          "execution_count": 23
        }
      ]
    },
    {
      "cell_type": "code",
      "source": [
        "df['socios_empresa'].value_counts()"
      ],
      "metadata": {
        "colab": {
          "base_uri": "https://localhost:8080/"
        },
        "id": "AyTF2ZMAqICI",
        "outputId": "bc0edda2-a13a-4813-e4ad-66d11352fe8f"
      },
      "execution_count": 24,
      "outputs": [
        {
          "output_type": "execute_result",
          "data": {
            "text/plain": [
              "1    2855\n",
              "3    2849\n",
              "2    2814\n",
              "4    2812\n",
              "Name: socios_empresa, dtype: int64"
            ]
          },
          "metadata": {},
          "execution_count": 24
        }
      ]
    },
    {
      "cell_type": "code",
      "source": [
        "df['idade_empresa'].value_counts()"
      ],
      "metadata": {
        "colab": {
          "base_uri": "https://localhost:8080/"
        },
        "id": "Bmnkf_MsqTHn",
        "outputId": "1097308d-e024-434f-f4a0-97ab1386228b"
      },
      "execution_count": 25,
      "outputs": [
        {
          "output_type": "execute_result",
          "data": {
            "text/plain": [
              "20    577\n",
              "19    567\n",
              "4     565\n",
              "5     561\n",
              "2     557\n",
              "21    555\n",
              "3     554\n",
              "1     551\n",
              "9     544\n",
              "18    536\n",
              "7     536\n",
              "10    532\n",
              "11    529\n",
              "14    529\n",
              "17    529\n",
              "13    527\n",
              "8     527\n",
              "16    520\n",
              "6     519\n",
              "15    515\n",
              "12    500\n",
              "Name: idade_empresa, dtype: int64"
            ]
          },
          "metadata": {},
          "execution_count": 25
        }
      ]
    },
    {
      "cell_type": "code",
      "source": [
        "# Salva em CSV\n",
        "\n",
        "df.to_csv('/content/empresas.csv', index = False)\n"
      ],
      "metadata": {
        "id": "gKBu5P9lQ1Hx"
      },
      "execution_count": 101,
      "outputs": []
    },
    {
      "cell_type": "code",
      "source": [
        "df.shape"
      ],
      "metadata": {
        "colab": {
          "base_uri": "https://localhost:8080/"
        },
        "id": "UgA4G4TVSuCI",
        "outputId": "84093f9f-cee1-4bde-dad4-58f0eb1ca826"
      },
      "execution_count": 102,
      "outputs": [
        {
          "output_type": "execute_result",
          "data": {
            "text/plain": [
              "(11328, 8)"
            ]
          },
          "metadata": {},
          "execution_count": 102
        }
      ]
    }
  ]
}